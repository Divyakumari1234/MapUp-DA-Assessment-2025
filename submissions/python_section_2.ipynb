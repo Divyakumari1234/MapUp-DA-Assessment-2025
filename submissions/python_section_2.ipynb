{
 "cells": [
  {
   "cell_type": "code",
   "execution_count": null,
   "id": "519d0fd6-70e5-40f6-857f-d4fe0b340a4a",
   "metadata": {
    "vscode": {
     "languageId": "python"
    }
   },
   "outputs": [],
   "source": [
    "import pandas as pd\n",
    "from datetime import time\n",
    "\n",
    "\n",
    "def calculate_distance_matrix(df)->pd.DataFrame():\n",
    "    df = pd.read_csv(file_path)\n",
    "    unique_ids = pd.unique(df[['From', 'To']].values.ravel('K'))\n",
    "    \n",
    "    distance_matrix = pd.DataFrame(float('inf'), index=unique_ids, columns=unique_ids)\n",
    "    \n",
    "    for id in unique_ids:\n",
    "        distance_matrix.at[id, id] =0\n",
    "    for _, row in df.iterrows():\n",
    "        from_id = row['From']\n",
    "        to_id = row['To']\n",
    "        distance = row['Distance']\n",
    "        \n",
    "        distance_matrix.at[from_id, to_id] = min(distance_matrix.at[from_id, to_id], distance)\n",
    "        distance_matrix.at[to_id, from_id] = min(distance_matrix.at[to_id, from_id], distance)\n",
    "\n",
    "    \n",
    "    for k in unique_ids:\n",
    "        for i in unique_ids:\n",
    "            for j in unique_ids:\n",
    "                if distance_matrix.at[i, j] > distance_matrix.at[i, k] + distance_matrix.at[k, j]:\n",
    "                    distance_matrix.at[i, j] = distance_matrix.at[i, k] + distance_matrix.at[k, j]\n",
    "\n",
    "    return distance_matrix\n",
    "\n"
   ]
  },
  {
   "cell_type": "code",
   "execution_count": null,
   "id": "c52272a1-b67a-4147-9a3d-e0c281075067",
   "metadata": {
    "vscode": {
     "languageId": "python"
    }
   },
   "outputs": [],
   "source": [
    "def unroll_distance_matrix(df)->pd.DataFrame():\n",
    "\n",
    "    unrolled_data = []\n",
    "    \n",
    "    ids = df.index\n",
    "    \n",
    "    for id_start in ids:\n",
    "        for id_end in ids:\n",
    "            if id_start != id_end:\n",
    "                unrolled_data.append([id_start, id_end, df.loc[id_start, id_end]])\n",
    "    \n",
    "    df = pd.DataFrame(unrolled_data, columns=['id_start', 'id_end', 'distance'])\n",
    " return df\n"
   ]
  },
  {
   "cell_type": "code",
   "execution_count": null,
   "id": "cd155807-06db-4c73-9106-73152419a702",
   "metadata": {
    "vscode": {
     "languageId": "python"
    }
   },
   "outputs": [],
   "source": [
    "def find_ids_within_ten_percentage_threshold(df, reference_id)->pd.DataFrame():\n",
    "\n",
    "    reference_distances = df[df['id_start'] == reference_id]['distance']\n",
    "    reference_avg = reference_distances.mean()\n",
    "    \n",
    "    lower_bound = reference_avg * 0.90\n",
    "    upper_bound = reference_avg * 1.10\n",
    "    \n",
    "    matching_ids = []\n",
    "    \n",
    "    for id_start in df['id_start'].unique():\n",
    "        avg_distance = df[df['id_start'] == id_start]['distance'].mean()\n",
    "        \n",
    "        if lower_bound <= avg_distance <= upper_bound:\n",
    "            matching_ids.append(id_start)\n",
    "    \n",
    "    return sorted(matching_ids)\n",
    "\n",
    "\n",
    "\n",
    "\n",
    "\n",
    "    "
   ]
  },
  {
   "cell_type": "code",
   "execution_count": null,
   "id": "3aede250-fe71-413b-acf2-79b682b2e2a2",
   "metadata": {
    "vscode": {
     "languageId": "python"
    }
   },
   "outputs": [],
   "source": [
    "def calculate_toll_rate(df)->pd.DataFrame():\n",
    "    rate_coefficients = {\n",
    "        'moto': 0.8,\n",
    "        'car': 1.2,\n",
    "        'rv': 1.5,\n",
    "        'bus': 2.2,\n",
    "        'truck': 3.6\n",
    "    }\n",
    "    \n",
    "    df['moto'] = df['distance'] * rate_coefficients['moto']\n",
    "    df['car'] = df['distance'] * rate_coefficients['car']\n",
    "    df['rv'] = df['distance'] * rate_coefficients['rv']\n",
    "    df['bus'] = df['distance'] * rate_coefficients['bus']\n",
    "    df['truck'] = df['distance'] * rate_coefficients['truck']\n",
    "    \n",
    "    return df\n",
    "\n"
   ]
  },
  {
   "cell_type": "code",
   "execution_count": null,
   "id": "b4a05aff-13e3-4f10-90ec-3037d7b11c09",
   "metadata": {
    "vscode": {
     "languageId": "python"
    }
   },
   "outputs": [],
   "source": [
    "\n",
    "def calculate_time_based_toll_rates(df)->pd.DataFrame():\n",
    "    time_ranges = [\n",
    "        (time(0, 0), time(10, 0), 0.8),   # 00:00 to 10:00 -> 0.8 factor\n",
    "        (time(10, 0), time(18, 0), 1.2),  # 10:00 to 18:00 -> 1.2 factor\n",
    "        (time(18, 0), time(23, 59, 59), 0.8) # 18:00 to 23:59 -> 0.8 factor\n",
    "    ]\n",
    "    days_of_week = ['Monday', 'Tuesday', 'Wednesday', 'Thursday', 'Friday', 'Saturday', 'Sunday']\n",
    "    \n",
    "    toll_data = []\n",
    "\n",
    "    for _, row in df.iterrows():\n",
    "        id_start = row['id_start']\n",
    "        id_end = row['id_end']\n",
    "        distance = row['distance']\n",
    "        moto = row['moto']\n",
    "        car = row['car']\n",
    "        rv = row['rv']\n",
    "        bus = row['bus']\n",
    "        truck = row['truck']\n",
    "        \n",
    "        for day in days_of_week:\n",
    "            if day in ['Saturday', 'Sunday']:\n",
    "                discount_factor = 0.7\n",
    "                start_time = time(0, 0)\n",
    "                end_time = time(23, 59, 59)\n",
    "                toll_data.append({\n",
    "                    'id_start': id_start,\n",
    "                    'id_end': id_end,\n",
    "                    'distance': distance,\n",
    "                    'start_day': day,\n",
    "                    'end_day': day,\n",
    "                    'start_time': start_time,\n",
    "                    'end_time': end_time,\n",
    "                    'moto': moto * discount_factor,\n",
    "                    'car': car * discount_factor,\n",
    "                    'rv': rv * discount_factor,\n",
    "                    'bus': bus * discount_factor,\n",
    "                    'truck': truck * discount_factor\n",
    "                })\n",
    "            else:\n",
    "                for start_time, end_time, discount_factor in time_ranges:\n",
    "                    toll_data.append({\n",
    "                        'id_start': id_start,\n",
    "                        'id_end': id_end,\n",
    "                        'distance': distance,\n",
    "                        'start_day': day,\n",
    "                        'end_day': day,\n",
    "                        'start_time': start_time,\n",
    "                        'end_time': end_time,\n",
    "                        'moto': moto * discount_factor,\n",
    "                        'car': car * discount_factor,\n",
    "                        'rv': rv * discount_factor,\n",
    "                        'bus': bus * discount_factor,\n",
    "                        'truck': truck * discount_factor\n",
    "                    })\n",
    "    \n",
    "    toll_df = pd.DataFrame(toll_data)\n",
    "    \n",
    "    return toll_df\n",
    "\n"
   ]
  }
 ],
 "metadata": {
  "kernelspec": {
   "display_name": "",
   "name": ""
  },
  "language_info": {
   "name": ""
  }
 },
 "nbformat": 4,
 "nbformat_minor": 5
}
