{
 "cells": [
  {
   "cell_type": "code",
   "execution_count": null,
   "id": "30c4b3bf-b254-45ba-a7e1-573eee060d66",
   "metadata": {
    "vscode": {
     "languageId": "python"
    }
   },
   "outputs": [],
   "source": [
    "from typing import Dict,List\n",
    "import pandas as pd\n",
    "import polyline\n",
    "import numpy as np\n",
    "def reverse_by_n_elements(lst: List[int], n: int) -> List[int]:\n",
    "    result=[]\n",
    "    length=len(lst)\n",
    "    for i in range(0,length,n):\n",
    "       group=[]\n",
    "       for j in range(n):\n",
    "          group.append(lst[i+j])\n",
    "       for k in range (len(group)-1,-1,-1):\n",
    "          result.append(group[k])\n",
    "\n",
    "      return lst\n",
    "print([1,2,3,4,5,6,7,8])\n",
    "print([1,2,3,4,5])\n",
    "print([10,20,30,40,50,60,70])"
   ]
  },
  {
   "cell_type": "code",
   "execution_count": null,
   "id": "a4c5298f-3dce-443a-8546-9507f5482384",
   "metadata": {
    "vscode": {
     "languageId": "python"
    }
   },
   "outputs": [],
   "source": [
    "def group_by_length(lst: List[str]) -> Dict[int, List[str]]:\n",
    "    length_dict={}\n",
    "    for string in strings:\n",
    "       length=len(string)\n",
    "       if length not in length_dict:\n",
    "          length_dict[length]=[]\n",
    "       length_dict[length].append(string)\n",
    "     sorted_length_dict=dict(sorted(length_dict.items()))\n",
    "     return sorted_length_dict\n",
    "print(group_by_length([\"apple\",\"bat\",\"car\",\"elephant\",\"dog\",\"bear\"]))\n",
    "print(group_by_length([\"one\",\"two\",\"three\",\"four\"]))"
   ]
  },
  {
   "cell_type": "code",
   "execution_count": null,
   "id": "9b20cbd8-559a-47d1-9414-b3aeda1b7e62",
   "metadata": {
    "vscode": {
     "languageId": "python"
    }
   },
   "outputs": [],
   "source": [
    "def flatten_dict(nested_dict: Dict, sep: str = '.') -> Dict:\n",
    "    items={}\n",
    "    for key, value in nested_dict.items():\n",
    "        new_key = f\"{parent_key}{sep}{key}\" if parent_key else key\n",
    "        \n",
    "        if isinstance(value, dict):\n",
    "            items.update(flatten_dict(value, new_key, sep=sep))\n",
    "        elif isinstance(value, list):\n",
    "            for i, item in enumerate(value):\n",
    "                if isinstance(item, dict):\n",
    "                    items.update(flatten_dict(item, f\"{new_key}[{i}]\", sep=sep))\n",
    "                else:\n",
    "                    items[f\"{new_key}[{i}]\"] = item\n",
    "        else:\n",
    "            items[new_key] = value\n",
    "            \n",
    "    return items\n",
    "nested_dict = {\n",
    "    \"road\": {\n",
    "        \"name\": \"Highway 1\",\n",
    "        \"length\": 350,\n",
    "        \"sections\": [\n",
    "            {\n",
    "                \"id\": 1,\n",
    "                \"condition\": {\n",
    "                    \"pavement\": \"good\",\n",
    "                    \"traffic\": \"moderate\"\n",
    "                }\n",
    "            }\n",
    "        ]\n",
    "    }\n",
    "}\n",
    "\n",
    "flattened = flatten_dict(nested_dict)\n",
    "for key, value in flattened.items():\n",
    "    print(f'\"{key}\": \"{value}\"')\n",
    "     \n",
    "\n",
    "    \n"
   ]
  },
  {
   "cell_type": "code",
   "execution_count": null,
   "id": "087e08f7-d2cc-4702-a6a0-6c13e4549da8",
   "metadata": {
    "vscode": {
     "languageId": "python"
    }
   },
   "outputs": [],
   "source": [
    "def unique_permutations(nums: List[int]) -> List[List[int]]:\n",
    "    \"\"\"\n",
    "    Generate all unique permutations of a list that may contain duplicates.\n",
    "    \n",
    "    :param nums: List of integers (may contain duplicates)\n",
    "    :return: List of unique permutations\n",
    "    \"\"\"\n",
    "    def permuteUnique(nums):\n",
    "    def backtrack(start):\n",
    "        if start == len(nums):\n",
    "            result.append(nums[:])\n",
    "            return\n",
    "        seen = set()  \n",
    "        for i in range(start, len(nums)):\n",
    "            if nums[i] not in seen:  \n",
    "                seen.add(nums[i])\n",
    "                nums[start], nums[i] = nums[i], nums[start]  \n",
    "                backtrack(start + 1)  # Recurse\n",
    "                nums[start], nums[i] = nums[i], nums[start]  \n",
    "\n",
    "    nums.sort()  \n",
    "    result = []\n",
    "    backtrack(0)\n",
    "    return result\n",
    "input_list = [1, 1, 2]\n",
    "unique_permutations = permuteUnique(input_list)\n",
    "for permutation in unique_permutations:\n",
    "    print(permutation)\n",
    "    pass\n"
   ]
  },
  {
   "cell_type": "code",
   "execution_count": null,
   "id": "1eb106a4-913e-47af-b092-9db950f33e91",
   "metadata": {
    "vscode": {
     "languageId": "python"
    }
   },
   "outputs": [],
   "source": [
    "def find_all_dates(text: str) -> List[str]\n",
    "    patterns = [\n",
    "        r'\\b(\\d{2})-(\\d{2})-(\\d{4})\\b',        \n",
    "        r'\\b(\\d{2})/(\\d{2})/(\\d{4})\\b',        \n",
    "        r'\\b(\\d{4})\\.(\\d{2})\\.(\\d{2})\\b'       \n",
    "    ]\n",
    "    \n",
    "    combined_pattern = '|'.join(patterns)\n",
    "    \n",
    "    matches = re.findall(combined_pattern, text)\n",
    "    \n",
    "    valid_dates = []\n",
    "    for match in matches:\n",
    "        if match[0]: \n",
    "            valid_dates.append(f\"{match[0]}-{match[1]}-{match[2]}\")\n",
    "        elif match[3]:  \n",
    "            valid_dates.append(f\"{match[3]}/{match[4]}/{match[5]}\")\n",
    "        elif match[6]:  \n",
    "            valid_dates.append(f\"{match[6]}.{match[7]}.{match[8]}\")\n",
    "    \n",
    "    return valid_dates\n",
    "\n",
    "text = \"I was born on 23-08-1994, my friend on 08/23/1994, and another one on 1994.08.23.\"\n",
    "print(find_all_dates(text))"
   ]
  },
  {
   "cell_type": "code",
   "execution_count": null,
   "id": "d15febeb-7a80-4254-9b92-5294445f0759",
   "metadata": {
    "vscode": {
     "languageId": "python"
    }
   },
   "outputs": [],
   "source": [
    "def haversine(lat1, lon1, lat2, lon2):\n",
    "    R = 6371000  \n",
    "    phi1 = np.radians(lat1)\n",
    "    phi2 = np.radians(lat2)\n",
    "    delta_phi = np.radians(lat2 - lat1)\n",
    "    delta_lambda = np.radians(lon2 - lon1)\n",
    "\n",
    "    a = (np.sin(delta_phi / 2) ** 2 +\n",
    "         np.cos(phi1) * np.cos(phi2) * np.sin(delta_lambda / 2) ** 2)\n",
    "    c = 2 * np.arctan2(np.sqrt(a), np.sqrt(1 - a))\n",
    "\n",
    "    distance = R * c  # Distance in meters\n",
    "    return distance\n",
    "\n",
    "def decode_polyline_to_dataframe(polyline_str):\n",
    "    coordinates = polyline.decode(polyline_str)\n",
    "\n",
    "    df = pd.DataFrame(coordinates, columns=['latitude', 'longitude'])\n",
    "    \n",
    "    df['distance'] = 0\n",
    "    for i in range(1, len(df)):\n",
    "        lat1, lon1 = df.iloc[i-1]\n",
    "        lat2, lon2 = df.iloc[i]\n",
    "        df.at[i, 'distance'] = haversine(lat1, lon1, lat2, lon2)\n",
    "    \n",
    "    return df\n",
    "\n",
    "polyline_str = 'u{~wFf~`rLx@pA~D~g@B'\n",
    "df = decode_polyline_to_dataframe(polyline_str)\n",
    "print(df)\n"
   ]
  },
  {
   "cell_type": "code",
   "execution_count": null,
   "id": "db0f6e72-6b77-40ae-a541-6c6b00f887d5",
   "metadata": {
    "vscode": {
     "languageId": "python"
    }
   },
   "outputs": [],
   "source": [
    "def rotate_and_multiply_matrix(matrix: List[List[int]]) -> List[List[int]]:\n",
    "    n = len(matrix)\n",
    "    rotated = [[matrix[n - j - 1][i] for j in range(n)] for i in range(n)]\n",
    "    return rotated\n",
    "\n",
    "def transform_matrix(matrix):\n",
    "    n = len(matrix)\n",
    "    transformed = [[0] * n for _ in range(n)]\n",
    "    \n",
    "    for i in range(n):\n",
    "        for j in range(n):\n",
    "            row_sum = sum(matrix[i])\n",
    "            col_sum = sum(matrix[k][j] for k in range(n))\n",
    "            transformed[i][j] = row_sum + col_sum - matrix[i][j]\n",
    "    \n",
    "    return transformed\n",
    "\n",
    "def rotate_and_transform(matrix):\n",
    "    rotated = rotate_matrix(matrix)\n",
    "    final_matrix = transform_matrix(rotated)\n",
    "    return final_matrix\n",
    "\n",
    "matrix = [[1, 2, 3], [4, 5, 6], [7, 8, 9]]\n",
    "result = rotate_and_transform(matrix)\n",
    "print(result)\n"
   ]
  },
  {
   "cell_type": "code",
   "execution_count": null,
   "id": "d879fec5-dd87-40ed-b294-5bce23c0ff5c",
   "metadata": {
    "vscode": {
     "languageId": "python"
    }
   },
   "outputs": [],
   "source": [
    "def time_check(df) -> pd.Series:\n",
    "    df['start'] = pd.to_datetime(df['startDay'] + ' ' + df['startTime'])\n",
    "    df['end'] = pd.to_datetime(df['endDay'] + ' ' + df['endTime'])\n",
    "    \n",
    "    grouped = df.groupby(['id', 'id_2'])\n",
    "    \n",
    "    def check_group(group):\n",
    "        days = group['start'].dt.dayofweek.unique()  # 0=Monday, ..., 6=Sunday\n",
    "        time_ranges = group[['start', 'end']]\n",
    "    \n",
    "        if len(days) != 7:\n",
    "            return True\n",
    "    \n",
    "        min_start = time_ranges['start'].min()\n",
    "        max_end = time_ranges['end'].max()\n",
    "        \n",
    "        if (max_end - min_start).days != 0 or (max_end - min_start).seconds != 86400:\n",
    "            return True\n",
    "            \n",
    "        return False\n",
    "\n",
    "    results = grouped.apply(check_group)\n",
    "\n",
    "    boolean_series = pd.Series(results, index=pd.MultiIndex.from_tuples(results.index, names=['id', 'id_2']))\n",
    "    \n",
    "    return boolean_series"
   ]
  }
 ],
 "metadata": {
  "kernelspec": {
   "display_name": "",
   "name": ""
  },
  "language_info": {
   "name": ""
  }
 },
 "nbformat": 4,
 "nbformat_minor": 5
}
